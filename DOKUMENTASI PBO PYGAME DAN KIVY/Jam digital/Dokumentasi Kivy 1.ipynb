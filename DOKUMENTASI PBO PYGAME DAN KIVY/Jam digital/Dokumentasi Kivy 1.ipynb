{
 "cells": [
  {
   "cell_type": "markdown",
   "metadata": {
    "collapsed": true
   },
   "source": [
    "#__KIVY__\n",
    "\n",
    "A. Pengertian Kivy\n",
    "    Kivy ini sendiri merupakan framework yang dibangun menggunakan library dari bahasa pemrograman Python yang bersifat Open Source. Tujuan dikembangkannya framework ini agar dapat membantu developer secara cepat dalam mengembangkan aplikasi yang memiliki tampilan antarmuka inovatif seperti aplikasi yang mendukung multitouch.\n",
    "    Framework ini sendiri dapat dijalankan pada sistem operasi Windows, Mac OS X, Linux, Android, hingga Raspberry Pi. Selain itu, Kivy mendukung untuk input beragam perangkat seperti WM_Touch, WM_Pen, Mac OS X Trackpad, Magi Mouse, Mtdev, Linux Kernel HID, dan TUIO.\n",
    "\n",
    "B. Cara Instalasi Kivy\n",
    "1.Buat / buka proyek Anda di PyCharm\n",
    "    \n",
    "   Itu biasanya yang diperlukan. Jika Anda memilikibeberapa penerjemah Python, Anda mungkin perlu memilih salah satu yang Anda instal Kivy.\n",
    "\n",
    "1. File -> Pengaturan -> Proyek -> Project Interpreter\n",
    "2. Klik simbol pengaturan di sebelah kanan drop down penerjemah proyek dan pilih penerjemah yang sesuai\n",
    "\n",
    "C. Penjelasan Class\n"
   ]
  },
  {
   "cell_type": "code",
   "execution_count": null,
   "metadata": {},
   "outputs": [],
   "source": []
  }
 ],
 "metadata": {
  "kernelspec": {
   "display_name": "Python 2",
   "language": "python",
   "name": "python2"
  },
  "language_info": {
   "codemirror_mode": {
    "name": "ipython",
    "version": 2
   },
   "file_extension": ".py",
   "mimetype": "text/x-python",
   "name": "python",
   "nbconvert_exporter": "python",
   "pygments_lexer": "ipython2",
   "version": "2.7.6"
  }
 },
 "nbformat": 4,
 "nbformat_minor": 0
}
