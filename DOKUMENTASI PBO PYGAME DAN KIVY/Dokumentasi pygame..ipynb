{
 "cells": [
  {
   "attachments": {},
   "cell_type": "markdown",
   "metadata": {},
   "source": [
    "# Pygame\n",
    "\n",
    "Dibuat oleh:\n",
    " 1. Alham bagus sadjiwo (180441100061)\n",
    " 2. Arik riko prasetya  (180441100063)\n",
    "\n",
    "__PENGERTIAN__\n",
    "\n",
    "Pygame adalah seperangkat modul Python lintas-platform yang dirancang untuk menulis video game . Ini termasuk grafik komputer dan pustaka suara yang dirancang untuk digunakan dengan bahasa pemrograman Python .\n",
    "\n",
    "__CARA INSTALASI PYGAME__\n",
    "\n",
    "    1.buka python(pycharm)\n",
    "    2.pilih file\n",
    "    3.setting\n",
    "    4.project\n",
    "    5.project interpreter\n",
    "    6.pilih tanda + pada pojok kanan atas(seperti gambar dibawah)\n",
    "    7.search pygame\n",
    "    8.install pagecage\n",
    "\n",
    "![](/pbo/pygame.PNG)\n",
    "__PENJELASAN CLASS__\n",
    "\n",
    "    Semua class yang digunakan dalam pembuatan game mewarisi class sprite milik pygame\n",
    "![](/pbo/pbo1.PNG)\n",
    "\n",
    "__a.class snake__\n",
    "![](/pbo/pbo2.PNG)\n",
    "![](/pbo/pbo3.PNG)\n",
    "![](/pbo/pbo4.PNG)\n",
    "![](/pbo/pbo5.PNG)\n",
    "\n",
    "__b.class apple__\n",
    "\n",
    "    class apple memiliki 1 method yaitu inisialisasi\n",
    "![](/pbo/apel.PNG)\n",
    "\n",
    "__c.class game__\n",
    "\n",
    "    class game memiliki 4 methode yaitu init,over,make button,loop.\n",
    "![](/pbo/pbo6.PNG)\n",
    "![](/pbo/apa.PNG)\n",
    "![](/pbo/asw.PNG)\n",
    "![](/pbo/asw2.PNG)\n",
    "![](/pbo/loop.PNG)\n",
    "\n",
    "\n",
    "__d.class startmenu__\n",
    "\n",
    "    class startmenu memiliki 4 methode yaitu init,make text ,make button,mainloop\n",
    "![](/pbo/azx.PNG)\n",
    "![](/pbo/asd.PNG)\n",
    "![](/pbo/asw.PNG)\n",
    "![](/pbo/asw2.PNG)\n",
    "![](/pbo/AS.PNG)\n",
    "\n",
    "__SCREENSHOT RUNNING PROGRAM__\n",
    "![](/pbo/ulo.PNG)\n",
    "![](/pbo/snake.png)\n",
    "\n",
    "__OOP konsep yang digunakan__\n",
    "\n",
    "    konsep oop yang digunakan adalah polymorphisme yaitu method diluar class\n",
    "![](/pbo/oop.PNG)\n",
    "\n",
    "__CODE SCRIPT__\n",
    "![](/pbo/x.PNG)\n",
    "![](/pbo/y.PNG)\n",
    "![](/pbo/z.PNG)\n",
    "![](/pbo/a.PNG)\n",
    "![](/pbo/b.PNG)\n",
    "![](/pbo/c.PNG)\n",
    "![](/pbo/d.PNG)\n",
    "![](/pbo/e.PNG)\n",
    "![](/pbo/f.PNG)\n",
    "![](/pbo/g.PNG)\n",
    "![](/pbo/h.PNG)\n",
    "\n"
   ]
  },
  {
   "cell_type": "markdown",
   "metadata": {},
   "source": []
  },
  {
   "cell_type": "markdown",
   "metadata": {},
   "source": []
  },
  {
   "cell_type": "markdown",
   "metadata": {},
   "source": []
  },
  {
   "cell_type": "markdown",
   "metadata": {},
   "source": []
  },
  {
   "cell_type": "markdown",
   "metadata": {},
   "source": []
  },
  {
   "attachments": {},
   "cell_type": "markdown",
   "metadata": {},
   "source": []
  },
  {
   "cell_type": "code",
   "execution_count": null,
   "metadata": {},
   "outputs": [],
   "source": []
  }
 ],
 "metadata": {
  "kernelspec": {
   "display_name": "Python 3",
   "language": "python",
   "name": "python3"
  },
  "language_info": {
   "codemirror_mode": {
    "name": "ipython",
    "version": 3
   },
   "file_extension": ".py",
   "mimetype": "text/x-python",
   "name": "python",
   "nbconvert_exporter": "python",
   "pygments_lexer": "ipython3",
   "version": "3.7.1"
  }
 },
 "nbformat": 4,
 "nbformat_minor": 2
}
